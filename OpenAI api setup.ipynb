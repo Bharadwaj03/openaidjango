{
 "cells": [
  {
   "cell_type": "code",
   "execution_count": null,
   "metadata": {},
   "outputs": [],
   "source": [
    "\n",
    "# from openai import OpenAI\n",
    "\n",
    "\n",
    "# client = OpenAI()\n",
    "# # defaults to getting the key using os.environ.get(\"OPENAI_API_KEY\")\n",
    "# # if you saved the key under a different environment variable name, you can do something like:\n",
    "# # client = OpenAI(\n",
    "# #   api_key=os.environ.get(\"openai_api.env\"),\n",
    "# # )"
   ]
  },
  {
   "cell_type": "code",
   "execution_count": 1,
   "metadata": {},
   "outputs": [
    {
     "name": "stdout",
     "output_type": "stream",
     "text": [
      "ChatCompletionMessage(content=\"In the realm where programs dance and sing,\\nThere lies a concept that makes hearts ring.\\nRecursive, it's called, a magical art,\\nA loop intertwining, a work of true heart.\\n\\nImagine a function, a code-filled spell,\\nThat calls itself within its own dwell.\\nA puzzle of echoes, a call and return,\\nLike mirrors reflecting, lessons to learn.\\n\\nAs the journey unfolds, step by step,\\nThe function moves on, without a misstep.\\nIt takes a problem and breaks it in two,\\nThen recursively solves, as if it knew.\\n\\nIn a labyrinth of tasks, it finds its way,\\nUnraveling mysteries, come what may.\\nEach recursion goes deeper still,\\nPeeling off layers, with a coder's skill.\\n\\nWith every call, a new pathway's born,\\nSolving problems, even the forlorn.\\nFibonacci numbers, a classic display,\\nRecursive functions make them sway.\\n\\nA ripple effect, expanding strong,\\nRecursive patterns, they do belong.\\nFrom fractal trees to snowflakes unique,\\nRecursion paints beauty, oh how it speaks.\\n\\nBut danger lurks within this enchanted scene,\\nAs infinite loops could make a code careen.\\nCareful conditions must be in place,\\nTo break the cycle, with saving grace.\\n\\nSo programmers brave, wield this power with care,\\nRecursive wonders, handle them rare.\\nFor in this realm, where artistry meets,\\nRecursion abounds, in symphonic beats.\\n\\nSo let your code dance with elegance and grace,\\nRevel in recursion, embrace its embrace.\\nIn this realm of logic, where beauty is born,\\nRecursion, the muse, shall forever adorn.\", role='assistant', function_call=None, tool_calls=None)\n"
     ]
    }
   ],
   "source": [
    "from openai import OpenAI\n",
    "client = OpenAI()\n",
    "\n",
    "completion = client.chat.completions.create(\n",
    "  model=\"gpt-3.5-turbo\",\n",
    "  messages=[\n",
    "    {\"role\": \"system\", \"content\": \"You are a poetic assistant, skilled in explaining complex programming concepts with creative flair.\"},\n",
    "    {\"role\": \"user\", \"content\": \"Compose a poem that explains the concept of recursion in programming.\"}\n",
    "  ]\n",
    ")\n",
    "\n",
    "print(completion.choices[0].message)"
   ]
  },
  {
   "cell_type": "code",
   "execution_count": null,
   "metadata": {},
   "outputs": [],
   "source": [
    "import time\n",
    "\n",
    "import openai\n",
    "\n",
    "# gets API Key from environment variable OPENAI_API_KEY\n",
    "client = openai.OpenAI()\n",
    "\n",
    "assistant = client.beta.assistants.create(\n",
    "    name=\"Math Tutor\",\n",
    "    instructions=\"You are a personal math tutor. Write and run code to answer math questions.\",\n",
    "    tools=[{\"type\": \"code_interpreter\"}],\n",
    "    model=\"gpt-3.5-turbo\",\n",
    ")\n",
    "\n",
    "thread = client.beta.threads.create()\n",
    "\n",
    "message = client.beta.threads.messages.create(\n",
    "    thread_id=thread.id,\n",
    "    role=\"user\",\n",
    "    content=\"I need to solve the equation `3x + 11 = 14`. Can you help me?\",\n",
    ")\n",
    "\n",
    "run = client.beta.threads.runs.create(\n",
    "    thread_id=thread.id,\n",
    "    assistant_id=assistant.id,\n",
    "    instructions=\"Please address the user as Jane Doe. The user has a premium account.\",\n",
    ")\n",
    "\n",
    "print(\"checking assistant status. \")\n",
    "while True:\n",
    "    run = client.beta.threads.runs.retrieve(thread_id=thread.id, run_id=run.id)\n",
    "\n",
    "    if run.status == \"completed\":\n",
    "        print(\"done!\")\n",
    "        messages = client.beta.threads.messages.list(thread_id=thread.id)\n",
    "\n",
    "        print(\"messages: \")\n",
    "        for message in messages:\n",
    "            assert message.content[0].type == \"text\"\n",
    "            print({\"role\": message.role, \"message\": message.content[0].text.value})\n",
    "\n",
    "        client.beta.assistants.delete(assistant.id)\n",
    "\n",
    "        break\n",
    "    else:\n",
    "        print(\"in progress...\")\n",
    "        time.sleep(5)"
   ]
  }
 ],
 "metadata": {
  "kernelspec": {
   "display_name": "env1",
   "language": "python",
   "name": "python3"
  },
  "language_info": {
   "codemirror_mode": {
    "name": "ipython",
    "version": 3
   },
   "file_extension": ".py",
   "mimetype": "text/x-python",
   "name": "python",
   "nbconvert_exporter": "python",
   "pygments_lexer": "ipython3",
   "version": "3.11.2"
  }
 },
 "nbformat": 4,
 "nbformat_minor": 2
}
